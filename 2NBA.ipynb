{
  "nbformat": 4,
  "nbformat_minor": 0,
  "metadata": {
    "colab": {
      "name": "2NBA.ipynb",
      "provenance": [],
      "collapsed_sections": [
        "-BfCgtEZFKx6",
        "AvMhF-9UKuUN",
        "V1dTtJjKZULU",
        "XhV1MbFGT_ll",
        "MOIMMoUzWYC1",
        "jwrg5I7jWmLf",
        "kI7mqxrMBMZ2",
        "X-Y75ypHk0OI"
      ],
      "mount_file_id": "1JN9vZws6HDMD1bx2t851XIZBgqWScAV3",
      "authorship_tag": "ABX9TyPpCraD7gWyh4lrlpCypgZE",
      "include_colab_link": true
    },
    "kernelspec": {
      "name": "python3",
      "display_name": "Python 3"
    },
    "language_info": {
      "name": "python"
    }
  },
  "cells": [
    {
      "cell_type": "markdown",
      "metadata": {
        "id": "view-in-github",
        "colab_type": "text"
      },
      "source": [
        "<a href=\"https://colab.research.google.com/github/npto04/analise_NBA_com_pandas/blob/main/2NBA.ipynb\" target=\"_parent\"><img src=\"https://colab.research.google.com/assets/colab-badge.svg\" alt=\"Open In Colab\"/></a>"
      ]
    },
    {
      "cell_type": "markdown",
      "source": [
        "#INSTALLATIONS & IMPORTS"
      ],
      "metadata": {
        "id": "mxhqvN4lynGd"
      }
    },
    {
      "cell_type": "code",
      "source": [
        "pip install pandera"
      ],
      "metadata": {
        "colab": {
          "base_uri": "https://localhost:8080/"
        },
        "id": "i0vusYJhzVij",
        "outputId": "423a4f1a-aad5-4a7f-8335-02554e9bd27c"
      },
      "execution_count": null,
      "outputs": [
        {
          "output_type": "stream",
          "name": "stdout",
          "text": [
            "Collecting pandera\n",
            "  Downloading pandera-0.9.0-py3-none-any.whl (197 kB)\n",
            "\u001b[?25l\r\u001b[K     |█▋                              | 10 kB 27.8 MB/s eta 0:00:01\r\u001b[K     |███▎                            | 20 kB 33.7 MB/s eta 0:00:01\r\u001b[K     |█████                           | 30 kB 35.2 MB/s eta 0:00:01\r\u001b[K     |██████▋                         | 40 kB 22.2 MB/s eta 0:00:01\r\u001b[K     |████████▎                       | 51 kB 18.4 MB/s eta 0:00:01\r\u001b[K     |██████████                      | 61 kB 21.0 MB/s eta 0:00:01\r\u001b[K     |███████████▋                    | 71 kB 20.7 MB/s eta 0:00:01\r\u001b[K     |█████████████▎                  | 81 kB 22.1 MB/s eta 0:00:01\r\u001b[K     |███████████████                 | 92 kB 23.6 MB/s eta 0:00:01\r\u001b[K     |████████████████▋               | 102 kB 23.5 MB/s eta 0:00:01\r\u001b[K     |██████████████████▎             | 112 kB 23.5 MB/s eta 0:00:01\r\u001b[K     |███████████████████▉            | 122 kB 23.5 MB/s eta 0:00:01\r\u001b[K     |█████████████████████▌          | 133 kB 23.5 MB/s eta 0:00:01\r\u001b[K     |███████████████████████▏        | 143 kB 23.5 MB/s eta 0:00:01\r\u001b[K     |████████████████████████▉       | 153 kB 23.5 MB/s eta 0:00:01\r\u001b[K     |██████████████████████████▌     | 163 kB 23.5 MB/s eta 0:00:01\r\u001b[K     |████████████████████████████▏   | 174 kB 23.5 MB/s eta 0:00:01\r\u001b[K     |█████████████████████████████▉  | 184 kB 23.5 MB/s eta 0:00:01\r\u001b[K     |███████████████████████████████▌| 194 kB 23.5 MB/s eta 0:00:01\r\u001b[K     |████████████████████████████████| 197 kB 23.5 MB/s \n",
            "\u001b[?25hRequirement already satisfied: numpy>=1.9.0 in /usr/local/lib/python3.7/dist-packages (from pandera) (1.21.5)\n",
            "Collecting pydantic\n",
            "  Downloading pydantic-1.9.0-cp37-cp37m-manylinux_2_17_x86_64.manylinux2014_x86_64.whl (10.9 MB)\n",
            "\u001b[K     |████████████████████████████████| 10.9 MB 43.8 MB/s \n",
            "\u001b[?25hRequirement already satisfied: wrapt in /usr/local/lib/python3.7/dist-packages (from pandera) (1.13.3)\n",
            "Requirement already satisfied: typing-extensions>=3.7.4.3 in /usr/local/lib/python3.7/dist-packages (from pandera) (3.10.0.2)\n",
            "Requirement already satisfied: packaging>=20.0 in /usr/local/lib/python3.7/dist-packages (from pandera) (21.3)\n",
            "Requirement already satisfied: pyarrow in /usr/local/lib/python3.7/dist-packages (from pandera) (6.0.1)\n",
            "Collecting typing-inspect>=0.6.0\n",
            "  Downloading typing_inspect-0.7.1-py3-none-any.whl (8.4 kB)\n",
            "Requirement already satisfied: pandas>=1.0 in /usr/local/lib/python3.7/dist-packages (from pandera) (1.3.5)\n",
            "Requirement already satisfied: pyparsing!=3.0.5,>=2.0.2 in /usr/local/lib/python3.7/dist-packages (from packaging>=20.0->pandera) (3.0.7)\n",
            "Requirement already satisfied: pytz>=2017.3 in /usr/local/lib/python3.7/dist-packages (from pandas>=1.0->pandera) (2018.9)\n",
            "Requirement already satisfied: python-dateutil>=2.7.3 in /usr/local/lib/python3.7/dist-packages (from pandas>=1.0->pandera) (2.8.2)\n",
            "Requirement already satisfied: six>=1.5 in /usr/local/lib/python3.7/dist-packages (from python-dateutil>=2.7.3->pandas>=1.0->pandera) (1.15.0)\n",
            "Collecting mypy-extensions>=0.3.0\n",
            "  Downloading mypy_extensions-0.4.3-py2.py3-none-any.whl (4.5 kB)\n",
            "Installing collected packages: mypy-extensions, typing-inspect, pydantic, pandera\n",
            "Successfully installed mypy-extensions-0.4.3 pandera-0.9.0 pydantic-1.9.0 typing-inspect-0.7.1\n"
          ]
        }
      ]
    },
    {
      "cell_type": "code",
      "source": [
        "pip install google-cloud-translate==2.0.1"
      ],
      "metadata": {
        "colab": {
          "base_uri": "https://localhost:8080/",
          "height": 714
        },
        "id": "2e5A50uK2zKs",
        "outputId": "a94fd8c3-59a8-4aa3-ab60-646481cf50fa"
      },
      "execution_count": null,
      "outputs": [
        {
          "output_type": "stream",
          "name": "stdout",
          "text": [
            "Collecting google-cloud-translate==2.0.1\n",
            "  Downloading google_cloud_translate-2.0.1-py2.py3-none-any.whl (90 kB)\n",
            "\u001b[?25l\r\u001b[K     |███▋                            | 10 kB 25.6 MB/s eta 0:00:01\r\u001b[K     |███████▏                        | 20 kB 28.9 MB/s eta 0:00:01\r\u001b[K     |██████████▉                     | 30 kB 18.0 MB/s eta 0:00:01\r\u001b[K     |██████████████▍                 | 40 kB 14.2 MB/s eta 0:00:01\r\u001b[K     |██████████████████              | 51 kB 13.4 MB/s eta 0:00:01\r\u001b[K     |█████████████████████▋          | 61 kB 15.3 MB/s eta 0:00:01\r\u001b[K     |█████████████████████████▎      | 71 kB 13.9 MB/s eta 0:00:01\r\u001b[K     |████████████████████████████▉   | 81 kB 15.2 MB/s eta 0:00:01\r\u001b[K     |████████████████████████████████| 90 kB 7.4 MB/s \n",
            "\u001b[?25hRequirement already satisfied: google-api-core[grpc]<2.0.0dev,>=1.15.0 in /usr/local/lib/python3.7/dist-packages (from google-cloud-translate==2.0.1) (1.26.3)\n",
            "Collecting google-cloud-core<2.0dev,>=1.1.0\n",
            "  Downloading google_cloud_core-1.7.2-py2.py3-none-any.whl (28 kB)\n",
            "Requirement already satisfied: protobuf>=3.12.0 in /usr/local/lib/python3.7/dist-packages (from google-api-core[grpc]<2.0.0dev,>=1.15.0->google-cloud-translate==2.0.1) (3.17.3)\n",
            "Requirement already satisfied: google-auth<2.0dev,>=1.21.1 in /usr/local/lib/python3.7/dist-packages (from google-api-core[grpc]<2.0.0dev,>=1.15.0->google-cloud-translate==2.0.1) (1.35.0)\n",
            "Requirement already satisfied: setuptools>=40.3.0 in /usr/local/lib/python3.7/dist-packages (from google-api-core[grpc]<2.0.0dev,>=1.15.0->google-cloud-translate==2.0.1) (57.4.0)\n",
            "Requirement already satisfied: googleapis-common-protos<2.0dev,>=1.6.0 in /usr/local/lib/python3.7/dist-packages (from google-api-core[grpc]<2.0.0dev,>=1.15.0->google-cloud-translate==2.0.1) (1.55.0)\n",
            "Requirement already satisfied: pytz in /usr/local/lib/python3.7/dist-packages (from google-api-core[grpc]<2.0.0dev,>=1.15.0->google-cloud-translate==2.0.1) (2018.9)\n",
            "Requirement already satisfied: six>=1.13.0 in /usr/local/lib/python3.7/dist-packages (from google-api-core[grpc]<2.0.0dev,>=1.15.0->google-cloud-translate==2.0.1) (1.15.0)\n",
            "Requirement already satisfied: packaging>=14.3 in /usr/local/lib/python3.7/dist-packages (from google-api-core[grpc]<2.0.0dev,>=1.15.0->google-cloud-translate==2.0.1) (21.3)\n",
            "Requirement already satisfied: requests<3.0.0dev,>=2.18.0 in /usr/local/lib/python3.7/dist-packages (from google-api-core[grpc]<2.0.0dev,>=1.15.0->google-cloud-translate==2.0.1) (2.23.0)\n",
            "Requirement already satisfied: grpcio<2.0dev,>=1.29.0 in /usr/local/lib/python3.7/dist-packages (from google-api-core[grpc]<2.0.0dev,>=1.15.0->google-cloud-translate==2.0.1) (1.44.0)\n",
            "Requirement already satisfied: cachetools<5.0,>=2.0.0 in /usr/local/lib/python3.7/dist-packages (from google-auth<2.0dev,>=1.21.1->google-api-core[grpc]<2.0.0dev,>=1.15.0->google-cloud-translate==2.0.1) (4.2.4)\n",
            "Requirement already satisfied: pyasn1-modules>=0.2.1 in /usr/local/lib/python3.7/dist-packages (from google-auth<2.0dev,>=1.21.1->google-api-core[grpc]<2.0.0dev,>=1.15.0->google-cloud-translate==2.0.1) (0.2.8)\n",
            "Requirement already satisfied: rsa<5,>=3.1.4 in /usr/local/lib/python3.7/dist-packages (from google-auth<2.0dev,>=1.21.1->google-api-core[grpc]<2.0.0dev,>=1.15.0->google-cloud-translate==2.0.1) (4.8)\n",
            "Requirement already satisfied: pyparsing!=3.0.5,>=2.0.2 in /usr/local/lib/python3.7/dist-packages (from packaging>=14.3->google-api-core[grpc]<2.0.0dev,>=1.15.0->google-cloud-translate==2.0.1) (3.0.7)\n",
            "Requirement already satisfied: pyasn1<0.5.0,>=0.4.6 in /usr/local/lib/python3.7/dist-packages (from pyasn1-modules>=0.2.1->google-auth<2.0dev,>=1.21.1->google-api-core[grpc]<2.0.0dev,>=1.15.0->google-cloud-translate==2.0.1) (0.4.8)\n",
            "Requirement already satisfied: certifi>=2017.4.17 in /usr/local/lib/python3.7/dist-packages (from requests<3.0.0dev,>=2.18.0->google-api-core[grpc]<2.0.0dev,>=1.15.0->google-cloud-translate==2.0.1) (2021.10.8)\n",
            "Requirement already satisfied: urllib3!=1.25.0,!=1.25.1,<1.26,>=1.21.1 in /usr/local/lib/python3.7/dist-packages (from requests<3.0.0dev,>=2.18.0->google-api-core[grpc]<2.0.0dev,>=1.15.0->google-cloud-translate==2.0.1) (1.24.3)\n",
            "Requirement already satisfied: idna<3,>=2.5 in /usr/local/lib/python3.7/dist-packages (from requests<3.0.0dev,>=2.18.0->google-api-core[grpc]<2.0.0dev,>=1.15.0->google-cloud-translate==2.0.1) (2.10)\n",
            "Requirement already satisfied: chardet<4,>=3.0.2 in /usr/local/lib/python3.7/dist-packages (from requests<3.0.0dev,>=2.18.0->google-api-core[grpc]<2.0.0dev,>=1.15.0->google-cloud-translate==2.0.1) (3.0.4)\n",
            "Installing collected packages: google-cloud-core, google-cloud-translate\n",
            "  Attempting uninstall: google-cloud-core\n",
            "    Found existing installation: google-cloud-core 1.0.3\n",
            "    Uninstalling google-cloud-core-1.0.3:\n",
            "      Successfully uninstalled google-cloud-core-1.0.3\n",
            "  Attempting uninstall: google-cloud-translate\n",
            "    Found existing installation: google-cloud-translate 1.5.0\n",
            "    Uninstalling google-cloud-translate-1.5.0:\n",
            "      Successfully uninstalled google-cloud-translate-1.5.0\n",
            "Successfully installed google-cloud-core-1.7.2 google-cloud-translate-2.0.1\n"
          ]
        },
        {
          "output_type": "display_data",
          "data": {
            "application/vnd.colab-display-data+json": {
              "pip_warning": {
                "packages": [
                  "google"
                ]
              }
            }
          },
          "metadata": {}
        }
      ]
    },
    {
      "cell_type": "code",
      "source": [
        "pip install --upgrade google-auth-oauthlib"
      ],
      "metadata": {
        "colab": {
          "base_uri": "https://localhost:8080/"
        },
        "id": "FOnwG0Dl6t8y",
        "outputId": "2ecaaf9e-8539-48b3-f474-4888e3384ee8"
      },
      "execution_count": null,
      "outputs": [
        {
          "output_type": "stream",
          "name": "stdout",
          "text": [
            "Requirement already satisfied: google-auth-oauthlib in /usr/local/lib/python3.7/dist-packages (0.4.6)\n",
            "Collecting google-auth-oauthlib\n",
            "  Downloading google_auth_oauthlib-0.5.0-py2.py3-none-any.whl (18 kB)\n",
            "Requirement already satisfied: requests-oauthlib>=0.7.0 in /usr/local/lib/python3.7/dist-packages (from google-auth-oauthlib) (1.3.1)\n",
            "Requirement already satisfied: google-auth>=1.0.0 in /usr/local/lib/python3.7/dist-packages (from google-auth-oauthlib) (1.35.0)\n",
            "Requirement already satisfied: setuptools>=40.3.0 in /usr/local/lib/python3.7/dist-packages (from google-auth>=1.0.0->google-auth-oauthlib) (57.4.0)\n",
            "Requirement already satisfied: six>=1.9.0 in /usr/local/lib/python3.7/dist-packages (from google-auth>=1.0.0->google-auth-oauthlib) (1.15.0)\n",
            "Requirement already satisfied: pyasn1-modules>=0.2.1 in /usr/local/lib/python3.7/dist-packages (from google-auth>=1.0.0->google-auth-oauthlib) (0.2.8)\n",
            "Requirement already satisfied: cachetools<5.0,>=2.0.0 in /usr/local/lib/python3.7/dist-packages (from google-auth>=1.0.0->google-auth-oauthlib) (4.2.4)\n",
            "Requirement already satisfied: rsa<5,>=3.1.4 in /usr/local/lib/python3.7/dist-packages (from google-auth>=1.0.0->google-auth-oauthlib) (4.8)\n",
            "Requirement already satisfied: pyasn1<0.5.0,>=0.4.6 in /usr/local/lib/python3.7/dist-packages (from pyasn1-modules>=0.2.1->google-auth>=1.0.0->google-auth-oauthlib) (0.4.8)\n",
            "Requirement already satisfied: requests>=2.0.0 in /usr/local/lib/python3.7/dist-packages (from requests-oauthlib>=0.7.0->google-auth-oauthlib) (2.23.0)\n",
            "Requirement already satisfied: oauthlib>=3.0.0 in /usr/local/lib/python3.7/dist-packages (from requests-oauthlib>=0.7.0->google-auth-oauthlib) (3.2.0)\n",
            "Requirement already satisfied: certifi>=2017.4.17 in /usr/local/lib/python3.7/dist-packages (from requests>=2.0.0->requests-oauthlib>=0.7.0->google-auth-oauthlib) (2021.10.8)\n",
            "Requirement already satisfied: idna<3,>=2.5 in /usr/local/lib/python3.7/dist-packages (from requests>=2.0.0->requests-oauthlib>=0.7.0->google-auth-oauthlib) (2.10)\n",
            "Requirement already satisfied: chardet<4,>=3.0.2 in /usr/local/lib/python3.7/dist-packages (from requests>=2.0.0->requests-oauthlib>=0.7.0->google-auth-oauthlib) (3.0.4)\n",
            "Requirement already satisfied: urllib3!=1.25.0,!=1.25.1,<1.26,>=1.21.1 in /usr/local/lib/python3.7/dist-packages (from requests>=2.0.0->requests-oauthlib>=0.7.0->google-auth-oauthlib) (1.24.3)\n",
            "Installing collected packages: google-auth-oauthlib\n",
            "  Attempting uninstall: google-auth-oauthlib\n",
            "    Found existing installation: google-auth-oauthlib 0.4.6\n",
            "    Uninstalling google-auth-oauthlib-0.4.6:\n",
            "      Successfully uninstalled google-auth-oauthlib-0.4.6\n",
            "\u001b[31mERROR: pip's dependency resolver does not currently take into account all the packages that are installed. This behaviour is the source of the following dependency conflicts.\n",
            "tensorboard 2.8.0 requires google-auth-oauthlib<0.5,>=0.4.1, but you have google-auth-oauthlib 0.5.0 which is incompatible.\u001b[0m\n",
            "Successfully installed google-auth-oauthlib-0.5.0\n"
          ]
        }
      ]
    },
    {
      "cell_type": "code",
      "execution_count": null,
      "metadata": {
        "id": "PZmEqAP1yLpb"
      },
      "outputs": [],
      "source": [
        "import pandas as pd\n",
        "import pandera as pa\n",
        "import matplotlib.pyplot as plt"
      ]
    },
    {
      "cell_type": "markdown",
      "source": [
        "#LER DATASET"
      ],
      "metadata": {
        "id": "iK2FMEP2zes-"
      }
    },
    {
      "cell_type": "code",
      "source": [
        "URL_PATH = 'https://storage.googleapis.com/dados_brutos_soulcode/original/2NBA.csv'"
      ],
      "metadata": {
        "id": "D_xvxeQMziqY"
      },
      "execution_count": null,
      "outputs": []
    },
    {
      "cell_type": "code",
      "source": [
        "df = pd.read_csv(URL_PATH, encoding='latin1', sep=';')"
      ],
      "metadata": {
        "id": "jOEshHj4z5U3"
      },
      "execution_count": null,
      "outputs": []
    },
    {
      "cell_type": "code",
      "source": [
        "df.info()"
      ],
      "metadata": {
        "colab": {
          "base_uri": "https://localhost:8080/"
        },
        "id": "dC7Z673l0aQp",
        "outputId": "95bcbb0c-4528-4d3c-c1c9-e00bcdfed128"
      },
      "execution_count": null,
      "outputs": [
        {
          "output_type": "stream",
          "name": "stdout",
          "text": [
            "<class 'pandas.core.frame.DataFrame'>\n",
            "RangeIndex: 734 entries, 0 to 733\n",
            "Data columns (total 30 columns):\n",
            " #   Column  Non-Null Count  Dtype  \n",
            "---  ------  --------------  -----  \n",
            " 0   Rk      734 non-null    int64  \n",
            " 1   Player  734 non-null    object \n",
            " 2   Pos     734 non-null    object \n",
            " 3   Age     734 non-null    int64  \n",
            " 4   Tm      734 non-null    object \n",
            " 5   G       734 non-null    int64  \n",
            " 6   GS      734 non-null    int64  \n",
            " 7   MP      734 non-null    float64\n",
            " 8   FG      734 non-null    float64\n",
            " 9   FGA     734 non-null    float64\n",
            " 10  FG%     734 non-null    float64\n",
            " 11  3P      734 non-null    float64\n",
            " 12  3PA     734 non-null    float64\n",
            " 13  3P%     734 non-null    float64\n",
            " 14  2P      734 non-null    float64\n",
            " 15  2PA     734 non-null    float64\n",
            " 16  2P%     734 non-null    float64\n",
            " 17  eFG%    734 non-null    float64\n",
            " 18  FT      734 non-null    float64\n",
            " 19  FTA     734 non-null    float64\n",
            " 20  FT%     734 non-null    float64\n",
            " 21  ORB     734 non-null    float64\n",
            " 22  DRB     734 non-null    float64\n",
            " 23  TRB     734 non-null    float64\n",
            " 24  AST     734 non-null    float64\n",
            " 25  STL     734 non-null    float64\n",
            " 26  BLK     734 non-null    float64\n",
            " 27  TOV     734 non-null    float64\n",
            " 28  PF      734 non-null    float64\n",
            " 29  PTS     734 non-null    float64\n",
            "dtypes: float64(23), int64(4), object(3)\n",
            "memory usage: 172.2+ KB\n"
          ]
        }
      ]
    },
    {
      "cell_type": "markdown",
      "source": [
        "#Pré-análise de dados"
      ],
      "metadata": {
        "id": "4TtVsZqU5UGG"
      }
    },
    {
      "cell_type": "markdown",
      "source": [
        "##Siglas (em inglês) para as colunas:\n",
        "\n",
        "Rk : Rank\n",
        "\n",
        "Player : Player's name\n",
        "\n",
        "Pos : Position\n",
        "\n",
        "Age : Player's age\n",
        "\n",
        "Tm : Team\n",
        "\n",
        "G : Games played\n",
        "\n",
        "GS : Games started\n",
        "\n",
        "MP : Minutes played per game\n",
        "\n",
        "FG : Field goals per game\n",
        "\n",
        "FGA : Field goal attempts per game\n",
        "\n",
        "FG% : Fiel goal percentage\n",
        "\n",
        "3P : 3-point field goals per game\n",
        "\n",
        "3PA : 3-point field goal attempts per game\n",
        "\n",
        "3P% : 3-point field goal percentage\n",
        "\n",
        "2P : 2-point field goals per game\n",
        "\n",
        "2PA : 2-point field goal attempts per game\n",
        "\n",
        "2P% : 2-point field goal percentage\n",
        "\n",
        "eFG% : Effective field goal percentage\n",
        "\n",
        "FT : Free throws per game\n",
        "\n",
        "FTA : Free throw attempts per game\n",
        "\n",
        "FT% : Free throw percentage\n",
        "\n",
        "ORB : Offensive rebounds per game\n",
        "\n",
        "DRB : Defensive rebounds per game\n",
        "\n",
        "TRB : Total rebounds per game\n",
        "\n",
        "AST : Assists per game\n",
        "\n",
        "STL : Steals per game\n",
        "\n",
        "BLK : Blocks per game\n",
        "\n",
        "TOV : Turnovers per game\n",
        "\n",
        "PF : Personal fouls per game\n",
        "\n",
        "PTS : Points per game"
      ],
      "metadata": {
        "id": "4Fm6H-Nl5qGT"
      }
    },
    {
      "cell_type": "markdown",
      "source": [
        "##Dropando colunas com dados derivados"
      ],
      "metadata": {
        "id": "-BfCgtEZFKx6"
      }
    },
    {
      "cell_type": "code",
      "source": [
        "df.drop(['FG','FGA','FG%','FT%','3P%','2P%','TRB','eFG%'], axis=1,inplace=True)"
      ],
      "metadata": {
        "id": "EGnzvt7dHBEV"
      },
      "execution_count": null,
      "outputs": []
    },
    {
      "cell_type": "markdown",
      "source": [
        "##Renomear siglas para seus verdadeiros significados"
      ],
      "metadata": {
        "id": "AvMhF-9UKuUN"
      }
    },
    {
      "cell_type": "code",
      "source": [
        "nomes_colunas ={\n",
        "'Rk' : 'Rank',\n",
        "\n",
        "'Player' : 'Player\\'s name',\n",
        "\n",
        "'Pos' : 'Position',\n",
        "\n",
        "'Age' : 'Player\\'s age',\n",
        "\n",
        "'Tm' : 'Team',\n",
        "\n",
        "'G' : 'Games played',\n",
        "\n",
        "'GS' : 'Games started',\n",
        "\n",
        "'MP' : 'Minutes played per game',\n",
        "\n",
        "'3P' : '3-point field goals per game',\n",
        "\n",
        "'3PA' : '3-point field goal attempts per game',\n",
        "\n",
        "'2P' : '2-point field goals per game',\n",
        "\n",
        "'2PA' : '2-point field goal attempts per game',\n",
        "\n",
        "'FT' : 'Free throws per game',\n",
        "\n",
        "'FTA' : 'Free throw attempts per game',\n",
        "\n",
        "'ORB' : 'Offensive rebounds per game',\n",
        "\n",
        "'DRB' : 'Defensive rebounds per game',\n",
        "\n",
        "'AST' : 'Assists per game',\n",
        "\n",
        "'STL' : 'Steals per game',\n",
        "\n",
        "'BLK' : 'Blocks per game',\n",
        "\n",
        "'TOV' : 'Turnovers per game',\n",
        "\n",
        "'PF' : 'Personal fouls per game',\n",
        "\n",
        "'PTS' : 'Points per game'\n",
        "}"
      ],
      "metadata": {
        "id": "taIsVrll71iw"
      },
      "execution_count": null,
      "outputs": []
    },
    {
      "cell_type": "code",
      "source": [
        "df.rename(columns=nomes_colunas, inplace=True)"
      ],
      "metadata": {
        "id": "VnaKk4oW95NH"
      },
      "execution_count": null,
      "outputs": []
    },
    {
      "cell_type": "markdown",
      "source": [
        "##Tradução da tabela do inglês ao português\n",
        "\n",
        "https://bolapresa.com.br/entenda-os-termos-do-basquete-da-nba/\n",
        "\n",
        "https://lakersbr.wordpress.com/dicionario-da-nba/"
      ],
      "metadata": {
        "id": "qYN087c0lPBq"
      }
    },
    {
      "cell_type": "code",
      "source": [
        "df_en = df.copy()"
      ],
      "metadata": {
        "id": "vrM5yLfqny9O"
      },
      "execution_count": null,
      "outputs": []
    },
    {
      "cell_type": "code",
      "source": [
        "from google_auth_oauthlib import flow\n",
        "\n",
        "# TODO: Uncomment the line below to set the `launch_browser` variable.\n",
        "launch_browser = False\n",
        "#\n",
        "# The `launch_browser` boolean variable indicates if a local server is used\n",
        "# as the callback URL in the auth flow. A value of `True` is recommended,\n",
        "# but a local server does not work if accessing the application remotely,\n",
        "# such as over SSH or from a remote Jupyter notebook.\n",
        "# Credential https://drive.google.com/file/d/1--SAW8n7r04Y_I4sDod_tmF-tLMKyts3/view?usp=sharing\n",
        "appflow = flow.InstalledAppFlow.from_client_secrets_file(\n",
        "    \"/content/drive/MyDrive/credentials/client_secret_401243953494-2o43sf7nuk639m84khbg3dpvlsv027v1.apps.googleusercontent.com.json\", scopes=[\"https://www.googleapis.com/auth/cloud-translation\"]\n",
        ")\n",
        "\n",
        "if launch_browser:\n",
        "    appflow.run_local_server()\n",
        "else:\n",
        "    appflow.run_console()\n",
        "\n",
        "credentials = appflow.credentials"
      ],
      "metadata": {
        "colab": {
          "base_uri": "https://localhost:8080/"
        },
        "id": "X6qjX3Pb9Wp6",
        "outputId": "3dec57d7-5012-49ed-de59-e1db5f9d216d"
      },
      "execution_count": null,
      "outputs": [
        {
          "name": "stdout",
          "output_type": "stream",
          "text": [
            "Please visit this URL to authorize this application: https://accounts.google.com/o/oauth2/auth?response_type=code&client_id=401243953494-2o43sf7nuk639m84khbg3dpvlsv027v1.apps.googleusercontent.com&redirect_uri=urn%3Aietf%3Awg%3Aoauth%3A2.0%3Aoob&scope=https%3A%2F%2Fwww.googleapis.com%2Fauth%2Fcloud-translation&state=GM0KzIALcwyhv2sULSbTSGCIDg74kV&prompt=consent&access_type=offline\n",
            "Enter the authorization code: 4/1AX4XfWgNg1ti4xJz4ei-G78Cyr6A0iDDQPFC4kR6lcpSQz2xhWbQLvW-fmg\n"
          ]
        }
      ]
    },
    {
      "cell_type": "code",
      "source": [
        "def translate_text(target, text):\n",
        "    \"\"\"Translates text into the target language.\n",
        "\n",
        "    Target must be an ISO 639-1 language code.\n",
        "    See https://g.co/cloud/translate/v2/translate-reference#supported_languages\n",
        "    \"\"\"\n",
        "    import six\n",
        "    from google.cloud import translate_v2 as translate\n",
        "\n",
        "    translate_client = translate.Client(credentials=credentials)\n",
        "\n",
        "    if isinstance(text, six.binary_type):\n",
        "        text = text.decode(\"utf-8\")\n",
        "\n",
        "    # Text can also be a sequence of strings, in which case this method\n",
        "    # will return a sequence of results for each text.\n",
        "    result = translate_client.translate(text, target_language=target)\n",
        "\n",
        "    #print(u\"Text: {}\".format(result[\"input\"]))\n",
        "    #print(u\"Translation: {}\".format(result[\"translatedText\"]))\n",
        "    #print(u\"Detected source language: {}\".format(result[\"detectedSourceLanguage\"]))\n",
        "    return result[\"translatedText\"]"
      ],
      "metadata": {
        "id": "CwXnhHuiz76p"
      },
      "execution_count": null,
      "outputs": []
    },
    {
      "cell_type": "code",
      "source": [
        "translate_text('pt', 'Hello world!')"
      ],
      "metadata": {
        "colab": {
          "base_uri": "https://localhost:8080/",
          "height": 35
        },
        "id": "q3MzZVoo2LTO",
        "outputId": "0c9c7528-a968-4aad-8dfd-32e85a8ba2b0"
      },
      "execution_count": null,
      "outputs": [
        {
          "output_type": "execute_result",
          "data": {
            "application/vnd.google.colaboratory.intrinsic+json": {
              "type": "string"
            },
            "text/plain": [
              "'Olá Mundo!'"
            ]
          },
          "metadata": {},
          "execution_count": 14
        }
      ]
    },
    {
      "cell_type": "code",
      "source": [
        "# traduz nomes das colunas usando função rename\n",
        "df.rename(columns= lambda x: translate_text('pt',x), inplace=True)"
      ],
      "metadata": {
        "id": "d-lOTh5blgFA"
      },
      "execution_count": null,
      "outputs": []
    },
    {
      "cell_type": "markdown",
      "source": [
        "## Corrigindo equivocos do tradutor"
      ],
      "metadata": {
        "id": "V1dTtJjKZULU"
      }
    },
    {
      "cell_type": "code",
      "source": [
        "df.columns"
      ],
      "metadata": {
        "colab": {
          "base_uri": "https://localhost:8080/"
        },
        "id": "ckONiA41XvfW",
        "outputId": "233dece1-9e86-43d9-9d8a-7595ab7b41ab"
      },
      "execution_count": null,
      "outputs": [
        {
          "output_type": "execute_result",
          "data": {
            "text/plain": [
              "Index(['Classificação', 'Nome do jogador', 'Posição', 'Idade do jogador',\n",
              "       'Equipe', 'Jogos jogados', 'Jogos iniciados',\n",
              "       'Minutos jogados por jogo', 'Field goals de 3 pontos por jogo',\n",
              "       'Tentativas de arremesso de campo de 3 pontos por jogo',\n",
              "       'Field goals de 2 pontos por jogo',\n",
              "       'Tentativas de arremesso de campo de 2 pontos por jogo',\n",
              "       'Lances livres por jogo', 'Tentativas de lance livre por jogo',\n",
              "       'Rebotes ofensivos por jogo', 'Rebotes defensivos por jogo',\n",
              "       'Assistências por jogo', 'Roubos por jogo', 'Blocos por jogo',\n",
              "       'Volume de negócios por jogo', 'Faltas pessoais por jogo',\n",
              "       'Pontos por jogo'],\n",
              "      dtype='object')"
            ]
          },
          "metadata": {},
          "execution_count": 16
        }
      ]
    },
    {
      "cell_type": "code",
      "source": [
        "df.rename(columns= lambda s: s.replace(\"Field goals\",\"Arremesso de quadra\"), inplace=True)"
      ],
      "metadata": {
        "id": "DQbvbwjgXxTr"
      },
      "execution_count": null,
      "outputs": []
    },
    {
      "cell_type": "code",
      "source": [
        "df.rename(columns= lambda s: s.replace(\"campo\",\"quadra\"), inplace=True)"
      ],
      "metadata": {
        "id": "bi8bVSuGi1pU"
      },
      "execution_count": null,
      "outputs": []
    },
    {
      "cell_type": "code",
      "source": [
        "df.rename(columns={\"Blocos por jogo\": \"Tocos por jogo\", \"Volume de negócios por jogo\":\"Bolas desperdiçadas por jogo\"}, inplace=True )"
      ],
      "metadata": {
        "id": "1UhiFBMRZTq_"
      },
      "execution_count": null,
      "outputs": []
    },
    {
      "cell_type": "markdown",
      "source": [
        "##Ajustando espaçoes entre os nomes das colunas"
      ],
      "metadata": {
        "id": "XhV1MbFGT_ll"
      }
    },
    {
      "cell_type": "code",
      "source": [
        "df.rename(columns= lambda s: s.replace(\" \", \"_\"), inplace=True)"
      ],
      "metadata": {
        "id": "b5_OFiIeJsTs"
      },
      "execution_count": null,
      "outputs": []
    },
    {
      "cell_type": "code",
      "source": [
        "df.columns"
      ],
      "metadata": {
        "colab": {
          "base_uri": "https://localhost:8080/"
        },
        "id": "HfDzlpG5MGOv",
        "outputId": "c66dcce0-45e5-4b23-abb5-38d2e87d1107"
      },
      "execution_count": null,
      "outputs": [
        {
          "output_type": "execute_result",
          "data": {
            "text/plain": [
              "Index(['Classificação', 'Nome_do_jogador', 'Posição', 'Idade_do_jogador',\n",
              "       'Equipe', 'Jogos_jogados', 'Jogos_iniciados',\n",
              "       'Minutos_jogados_por_jogo', 'Arremesso_de_quadra_de_3_pontos_por_jogo',\n",
              "       'Tentativas_de_arremesso_de_quadra_de_3_pontos_por_jogo',\n",
              "       'Arremesso_de_quadra_de_2_pontos_por_jogo',\n",
              "       'Tentativas_de_arremesso_de_quadra_de_2_pontos_por_jogo',\n",
              "       'Lances_livres_por_jogo', 'Tentativas_de_lance_livre_por_jogo',\n",
              "       'Rebotes_ofensivos_por_jogo', 'Rebotes_defensivos_por_jogo',\n",
              "       'Assistências_por_jogo', 'Roubos_por_jogo', 'Tocos_por_jogo',\n",
              "       'Bolas_desperdiçadas_por_jogo', 'Faltas_pessoais_por_jogo',\n",
              "       'Pontos_por_jogo'],\n",
              "      dtype='object')"
            ]
          },
          "metadata": {},
          "execution_count": 21
        }
      ]
    },
    {
      "cell_type": "markdown",
      "source": [
        "#Tratamentos de Dados"
      ],
      "metadata": {
        "id": "MOIMMoUzWYC1"
      }
    },
    {
      "cell_type": "code",
      "source": [
        "# criação do Schema de dados\n",
        "\n",
        "\n",
        "schema = pa.DataFrameSchema(\n",
        "    columns = {\n",
        "        \"Classificação\":pa.Column(pa.Int),\n",
        "        \"Nome_do_jogador\":pa.Column(pa.String),\n",
        "        \"Posição\":pa.Column(pa.String),\n",
        "        \"Idade_do_jogador\":pa.Column(pa.Int),\n",
        "        \"Equipe\":pa.Column(pa.String),\n",
        "        \"Jogos_jogados\":pa.Column(pa.Int),\n",
        "        \"Jogos_iniciados\":pa.Column(pa.Int),\n",
        "        \"Minutos_jogados_por_jogo\":pa.Column(pa.Float),\n",
        "        \"Arremesso_de_quadra_de_3_pontos_por_jogo\":pa.Column(pa.Float),\n",
        "        \"Arremesso_de_quadra_de_2_pontos_por_jogo\":pa.Column(pa.Float),\n",
        "        \"Tentativas_de_arremesso_de_quadra_de_3_pontos_por_jogo\":pa.Column(pa.Float),\n",
        "        \"Tentativas_de_arremesso_de_quadra_de_2_pontos_por_jogo\":pa.Column(pa.Float),\n",
        "        \"Lances_livres_por_jogo\": pa.Column(pa.Float),\n",
        "        \"Tentativas_de_lance_livre_por_jogo\": pa.Column(pa.Float),\n",
        "        \"Rebotes_ofensivos_por_jogo\": pa.Column(pa.Float),\n",
        "        \"Rebotes_defensivos_por_jogo\":pa.Column(pa.Float),\n",
        "        \"Assistências_por_jogo\":pa.Column(pa.Float),\n",
        "        \"Roubos_por_jogo\":pa.Column(pa.Float),\n",
        "        \"Tocos_por_jogo\":pa.Column(pa.Float),\n",
        "        \"Bolas_desperdiçadas_por_jogo\":pa.Column(pa.Float),\n",
        "        \"Faltas_pessoais_por_jogo\":pa.Column(pa.Float),\n",
        "        \"Pontos_por_jogo\":pa.Column(pa.Float)\n",
        "    }\n",
        ")"
      ],
      "metadata": {
        "id": "XePaBFXZ5N1w"
      },
      "execution_count": null,
      "outputs": []
    },
    {
      "cell_type": "code",
      "source": [
        "#Validador do DataFrame baseado no Schema\n",
        "schema.validate(df)"
      ],
      "metadata": {
        "colab": {
          "base_uri": "https://localhost:8080/",
          "height": 505
        },
        "id": "hqy0s9VIV-EL",
        "outputId": "cc688590-0380-4877-8d8f-cb3bdf859dcc"
      },
      "execution_count": null,
      "outputs": [
        {
          "output_type": "execute_result",
          "data": {
            "text/html": [
              "\n",
              "  <div id=\"df-47cae76e-f7d9-4934-8b48-f22200b395e7\">\n",
              "    <div class=\"colab-df-container\">\n",
              "      <div>\n",
              "<style scoped>\n",
              "    .dataframe tbody tr th:only-of-type {\n",
              "        vertical-align: middle;\n",
              "    }\n",
              "\n",
              "    .dataframe tbody tr th {\n",
              "        vertical-align: top;\n",
              "    }\n",
              "\n",
              "    .dataframe thead th {\n",
              "        text-align: right;\n",
              "    }\n",
              "</style>\n",
              "<table border=\"1\" class=\"dataframe\">\n",
              "  <thead>\n",
              "    <tr style=\"text-align: right;\">\n",
              "      <th></th>\n",
              "      <th>Classificação</th>\n",
              "      <th>Nome_do_jogador</th>\n",
              "      <th>Posição</th>\n",
              "      <th>Idade_do_jogador</th>\n",
              "      <th>Equipe</th>\n",
              "      <th>Jogos_jogados</th>\n",
              "      <th>Jogos_iniciados</th>\n",
              "      <th>Minutos_jogados_por_jogo</th>\n",
              "      <th>Arremesso_de_quadra_de_3_pontos_por_jogo</th>\n",
              "      <th>Tentativas_de_arremesso_de_quadra_de_3_pontos_por_jogo</th>\n",
              "      <th>...</th>\n",
              "      <th>Lances_livres_por_jogo</th>\n",
              "      <th>Tentativas_de_lance_livre_por_jogo</th>\n",
              "      <th>Rebotes_ofensivos_por_jogo</th>\n",
              "      <th>Rebotes_defensivos_por_jogo</th>\n",
              "      <th>Assistências_por_jogo</th>\n",
              "      <th>Roubos_por_jogo</th>\n",
              "      <th>Tocos_por_jogo</th>\n",
              "      <th>Bolas_desperdiçadas_por_jogo</th>\n",
              "      <th>Faltas_pessoais_por_jogo</th>\n",
              "      <th>Pontos_por_jogo</th>\n",
              "    </tr>\n",
              "  </thead>\n",
              "  <tbody>\n",
              "    <tr>\n",
              "      <th>0</th>\n",
              "      <td>1</td>\n",
              "      <td>Precious Achiuwa</td>\n",
              "      <td>C</td>\n",
              "      <td>22</td>\n",
              "      <td>TOR</td>\n",
              "      <td>48</td>\n",
              "      <td>23</td>\n",
              "      <td>23.1</td>\n",
              "      <td>0.4</td>\n",
              "      <td>1.2</td>\n",
              "      <td>...</td>\n",
              "      <td>0.9</td>\n",
              "      <td>1.6</td>\n",
              "      <td>2.2</td>\n",
              "      <td>4.7</td>\n",
              "      <td>1.1</td>\n",
              "      <td>0.5</td>\n",
              "      <td>0.6</td>\n",
              "      <td>1.0</td>\n",
              "      <td>2.0</td>\n",
              "      <td>7.5</td>\n",
              "    </tr>\n",
              "    <tr>\n",
              "      <th>1</th>\n",
              "      <td>2</td>\n",
              "      <td>Steven Adams</td>\n",
              "      <td>C</td>\n",
              "      <td>28</td>\n",
              "      <td>MEM</td>\n",
              "      <td>56</td>\n",
              "      <td>55</td>\n",
              "      <td>26.1</td>\n",
              "      <td>0.0</td>\n",
              "      <td>0.0</td>\n",
              "      <td>...</td>\n",
              "      <td>1.5</td>\n",
              "      <td>2.7</td>\n",
              "      <td>4.5</td>\n",
              "      <td>5.1</td>\n",
              "      <td>3.2</td>\n",
              "      <td>0.9</td>\n",
              "      <td>0.7</td>\n",
              "      <td>1.6</td>\n",
              "      <td>1.9</td>\n",
              "      <td>7.0</td>\n",
              "    </tr>\n",
              "    <tr>\n",
              "      <th>2</th>\n",
              "      <td>3</td>\n",
              "      <td>Bam Adebayo</td>\n",
              "      <td>C</td>\n",
              "      <td>24</td>\n",
              "      <td>MIA</td>\n",
              "      <td>33</td>\n",
              "      <td>33</td>\n",
              "      <td>33.0</td>\n",
              "      <td>0.0</td>\n",
              "      <td>0.1</td>\n",
              "      <td>...</td>\n",
              "      <td>4.4</td>\n",
              "      <td>5.8</td>\n",
              "      <td>2.8</td>\n",
              "      <td>7.4</td>\n",
              "      <td>3.5</td>\n",
              "      <td>1.5</td>\n",
              "      <td>0.6</td>\n",
              "      <td>2.9</td>\n",
              "      <td>3.2</td>\n",
              "      <td>18.7</td>\n",
              "    </tr>\n",
              "    <tr>\n",
              "      <th>3</th>\n",
              "      <td>4</td>\n",
              "      <td>Santi Aldama</td>\n",
              "      <td>PF</td>\n",
              "      <td>21</td>\n",
              "      <td>MEM</td>\n",
              "      <td>27</td>\n",
              "      <td>0</td>\n",
              "      <td>10.3</td>\n",
              "      <td>0.1</td>\n",
              "      <td>1.4</td>\n",
              "      <td>...</td>\n",
              "      <td>0.4</td>\n",
              "      <td>0.7</td>\n",
              "      <td>0.9</td>\n",
              "      <td>1.5</td>\n",
              "      <td>0.5</td>\n",
              "      <td>0.1</td>\n",
              "      <td>0.3</td>\n",
              "      <td>0.3</td>\n",
              "      <td>1.0</td>\n",
              "      <td>3.3</td>\n",
              "    </tr>\n",
              "    <tr>\n",
              "      <th>4</th>\n",
              "      <td>5</td>\n",
              "      <td>LaMarcus Aldridge</td>\n",
              "      <td>C</td>\n",
              "      <td>36</td>\n",
              "      <td>BRK</td>\n",
              "      <td>38</td>\n",
              "      <td>11</td>\n",
              "      <td>22.8</td>\n",
              "      <td>0.3</td>\n",
              "      <td>1.0</td>\n",
              "      <td>...</td>\n",
              "      <td>1.7</td>\n",
              "      <td>2.0</td>\n",
              "      <td>1.6</td>\n",
              "      <td>4.2</td>\n",
              "      <td>0.8</td>\n",
              "      <td>0.3</td>\n",
              "      <td>1.1</td>\n",
              "      <td>1.0</td>\n",
              "      <td>1.7</td>\n",
              "      <td>13.7</td>\n",
              "    </tr>\n",
              "    <tr>\n",
              "      <th>...</th>\n",
              "      <td>...</td>\n",
              "      <td>...</td>\n",
              "      <td>...</td>\n",
              "      <td>...</td>\n",
              "      <td>...</td>\n",
              "      <td>...</td>\n",
              "      <td>...</td>\n",
              "      <td>...</td>\n",
              "      <td>...</td>\n",
              "      <td>...</td>\n",
              "      <td>...</td>\n",
              "      <td>...</td>\n",
              "      <td>...</td>\n",
              "      <td>...</td>\n",
              "      <td>...</td>\n",
              "      <td>...</td>\n",
              "      <td>...</td>\n",
              "      <td>...</td>\n",
              "      <td>...</td>\n",
              "      <td>...</td>\n",
              "      <td>...</td>\n",
              "    </tr>\n",
              "    <tr>\n",
              "      <th>729</th>\n",
              "      <td>588</td>\n",
              "      <td>Thaddeus Young</td>\n",
              "      <td>PF</td>\n",
              "      <td>33</td>\n",
              "      <td>TOR</td>\n",
              "      <td>2</td>\n",
              "      <td>0</td>\n",
              "      <td>16.5</td>\n",
              "      <td>0.0</td>\n",
              "      <td>1.0</td>\n",
              "      <td>...</td>\n",
              "      <td>0.0</td>\n",
              "      <td>0.5</td>\n",
              "      <td>2.0</td>\n",
              "      <td>2.5</td>\n",
              "      <td>1.0</td>\n",
              "      <td>1.0</td>\n",
              "      <td>0.5</td>\n",
              "      <td>1.5</td>\n",
              "      <td>1.5</td>\n",
              "      <td>7.0</td>\n",
              "    </tr>\n",
              "    <tr>\n",
              "      <th>730</th>\n",
              "      <td>589</td>\n",
              "      <td>Trae Young</td>\n",
              "      <td>PG</td>\n",
              "      <td>23</td>\n",
              "      <td>ATL</td>\n",
              "      <td>53</td>\n",
              "      <td>53</td>\n",
              "      <td>34.4</td>\n",
              "      <td>3.0</td>\n",
              "      <td>7.8</td>\n",
              "      <td>...</td>\n",
              "      <td>6.2</td>\n",
              "      <td>6.9</td>\n",
              "      <td>0.6</td>\n",
              "      <td>3.2</td>\n",
              "      <td>9.3</td>\n",
              "      <td>1.0</td>\n",
              "      <td>0.1</td>\n",
              "      <td>4.1</td>\n",
              "      <td>1.6</td>\n",
              "      <td>27.8</td>\n",
              "    </tr>\n",
              "    <tr>\n",
              "      <th>731</th>\n",
              "      <td>590</td>\n",
              "      <td>Omer Yurtseven</td>\n",
              "      <td>C</td>\n",
              "      <td>23</td>\n",
              "      <td>MIA</td>\n",
              "      <td>41</td>\n",
              "      <td>10</td>\n",
              "      <td>14.1</td>\n",
              "      <td>0.0</td>\n",
              "      <td>0.2</td>\n",
              "      <td>...</td>\n",
              "      <td>0.8</td>\n",
              "      <td>1.3</td>\n",
              "      <td>1.7</td>\n",
              "      <td>4.2</td>\n",
              "      <td>1.0</td>\n",
              "      <td>0.4</td>\n",
              "      <td>0.4</td>\n",
              "      <td>0.9</td>\n",
              "      <td>1.7</td>\n",
              "      <td>6.1</td>\n",
              "    </tr>\n",
              "    <tr>\n",
              "      <th>732</th>\n",
              "      <td>591</td>\n",
              "      <td>Cody Zeller</td>\n",
              "      <td>C</td>\n",
              "      <td>29</td>\n",
              "      <td>POR</td>\n",
              "      <td>27</td>\n",
              "      <td>0</td>\n",
              "      <td>13.1</td>\n",
              "      <td>0.0</td>\n",
              "      <td>0.1</td>\n",
              "      <td>...</td>\n",
              "      <td>1.4</td>\n",
              "      <td>1.8</td>\n",
              "      <td>1.9</td>\n",
              "      <td>2.8</td>\n",
              "      <td>0.8</td>\n",
              "      <td>0.3</td>\n",
              "      <td>0.2</td>\n",
              "      <td>0.7</td>\n",
              "      <td>2.1</td>\n",
              "      <td>5.2</td>\n",
              "    </tr>\n",
              "    <tr>\n",
              "      <th>733</th>\n",
              "      <td>592</td>\n",
              "      <td>Ivica Zubac</td>\n",
              "      <td>C</td>\n",
              "      <td>24</td>\n",
              "      <td>LAC</td>\n",
              "      <td>54</td>\n",
              "      <td>54</td>\n",
              "      <td>24.3</td>\n",
              "      <td>0.0</td>\n",
              "      <td>0.0</td>\n",
              "      <td>...</td>\n",
              "      <td>2.2</td>\n",
              "      <td>3.1</td>\n",
              "      <td>2.6</td>\n",
              "      <td>5.4</td>\n",
              "      <td>1.4</td>\n",
              "      <td>0.4</td>\n",
              "      <td>1.0</td>\n",
              "      <td>1.4</td>\n",
              "      <td>2.5</td>\n",
              "      <td>9.6</td>\n",
              "    </tr>\n",
              "  </tbody>\n",
              "</table>\n",
              "<p>734 rows × 22 columns</p>\n",
              "</div>\n",
              "      <button class=\"colab-df-convert\" onclick=\"convertToInteractive('df-47cae76e-f7d9-4934-8b48-f22200b395e7')\"\n",
              "              title=\"Convert this dataframe to an interactive table.\"\n",
              "              style=\"display:none;\">\n",
              "        \n",
              "  <svg xmlns=\"http://www.w3.org/2000/svg\" height=\"24px\"viewBox=\"0 0 24 24\"\n",
              "       width=\"24px\">\n",
              "    <path d=\"M0 0h24v24H0V0z\" fill=\"none\"/>\n",
              "    <path d=\"M18.56 5.44l.94 2.06.94-2.06 2.06-.94-2.06-.94-.94-2.06-.94 2.06-2.06.94zm-11 1L8.5 8.5l.94-2.06 2.06-.94-2.06-.94L8.5 2.5l-.94 2.06-2.06.94zm10 10l.94 2.06.94-2.06 2.06-.94-2.06-.94-.94-2.06-.94 2.06-2.06.94z\"/><path d=\"M17.41 7.96l-1.37-1.37c-.4-.4-.92-.59-1.43-.59-.52 0-1.04.2-1.43.59L10.3 9.45l-7.72 7.72c-.78.78-.78 2.05 0 2.83L4 21.41c.39.39.9.59 1.41.59.51 0 1.02-.2 1.41-.59l7.78-7.78 2.81-2.81c.8-.78.8-2.07 0-2.86zM5.41 20L4 18.59l7.72-7.72 1.47 1.35L5.41 20z\"/>\n",
              "  </svg>\n",
              "      </button>\n",
              "      \n",
              "  <style>\n",
              "    .colab-df-container {\n",
              "      display:flex;\n",
              "      flex-wrap:wrap;\n",
              "      gap: 12px;\n",
              "    }\n",
              "\n",
              "    .colab-df-convert {\n",
              "      background-color: #E8F0FE;\n",
              "      border: none;\n",
              "      border-radius: 50%;\n",
              "      cursor: pointer;\n",
              "      display: none;\n",
              "      fill: #1967D2;\n",
              "      height: 32px;\n",
              "      padding: 0 0 0 0;\n",
              "      width: 32px;\n",
              "    }\n",
              "\n",
              "    .colab-df-convert:hover {\n",
              "      background-color: #E2EBFA;\n",
              "      box-shadow: 0px 1px 2px rgba(60, 64, 67, 0.3), 0px 1px 3px 1px rgba(60, 64, 67, 0.15);\n",
              "      fill: #174EA6;\n",
              "    }\n",
              "\n",
              "    [theme=dark] .colab-df-convert {\n",
              "      background-color: #3B4455;\n",
              "      fill: #D2E3FC;\n",
              "    }\n",
              "\n",
              "    [theme=dark] .colab-df-convert:hover {\n",
              "      background-color: #434B5C;\n",
              "      box-shadow: 0px 1px 3px 1px rgba(0, 0, 0, 0.15);\n",
              "      filter: drop-shadow(0px 1px 2px rgba(0, 0, 0, 0.3));\n",
              "      fill: #FFFFFF;\n",
              "    }\n",
              "  </style>\n",
              "\n",
              "      <script>\n",
              "        const buttonEl =\n",
              "          document.querySelector('#df-47cae76e-f7d9-4934-8b48-f22200b395e7 button.colab-df-convert');\n",
              "        buttonEl.style.display =\n",
              "          google.colab.kernel.accessAllowed ? 'block' : 'none';\n",
              "\n",
              "        async function convertToInteractive(key) {\n",
              "          const element = document.querySelector('#df-47cae76e-f7d9-4934-8b48-f22200b395e7');\n",
              "          const dataTable =\n",
              "            await google.colab.kernel.invokeFunction('convertToInteractive',\n",
              "                                                     [key], {});\n",
              "          if (!dataTable) return;\n",
              "\n",
              "          const docLinkHtml = 'Like what you see? Visit the ' +\n",
              "            '<a target=\"_blank\" href=https://colab.research.google.com/notebooks/data_table.ipynb>data table notebook</a>'\n",
              "            + ' to learn more about interactive tables.';\n",
              "          element.innerHTML = '';\n",
              "          dataTable['output_type'] = 'display_data';\n",
              "          await google.colab.output.renderOutput(dataTable, element);\n",
              "          const docLink = document.createElement('div');\n",
              "          docLink.innerHTML = docLinkHtml;\n",
              "          element.appendChild(docLink);\n",
              "        }\n",
              "      </script>\n",
              "    </div>\n",
              "  </div>\n",
              "  "
            ],
            "text/plain": [
              "     Classificação    Nome_do_jogador Posição  Idade_do_jogador Equipe  \\\n",
              "0                1   Precious Achiuwa       C                22    TOR   \n",
              "1                2       Steven Adams       C                28    MEM   \n",
              "2                3        Bam Adebayo       C                24    MIA   \n",
              "3                4       Santi Aldama      PF                21    MEM   \n",
              "4                5  LaMarcus Aldridge       C                36    BRK   \n",
              "..             ...                ...     ...               ...    ...   \n",
              "729            588     Thaddeus Young      PF                33    TOR   \n",
              "730            589         Trae Young      PG                23    ATL   \n",
              "731            590     Omer Yurtseven       C                23    MIA   \n",
              "732            591        Cody Zeller       C                29    POR   \n",
              "733            592        Ivica Zubac       C                24    LAC   \n",
              "\n",
              "     Jogos_jogados  Jogos_iniciados  Minutos_jogados_por_jogo  \\\n",
              "0               48               23                      23.1   \n",
              "1               56               55                      26.1   \n",
              "2               33               33                      33.0   \n",
              "3               27                0                      10.3   \n",
              "4               38               11                      22.8   \n",
              "..             ...              ...                       ...   \n",
              "729              2                0                      16.5   \n",
              "730             53               53                      34.4   \n",
              "731             41               10                      14.1   \n",
              "732             27                0                      13.1   \n",
              "733             54               54                      24.3   \n",
              "\n",
              "     Arremesso_de_quadra_de_3_pontos_por_jogo  \\\n",
              "0                                         0.4   \n",
              "1                                         0.0   \n",
              "2                                         0.0   \n",
              "3                                         0.1   \n",
              "4                                         0.3   \n",
              "..                                        ...   \n",
              "729                                       0.0   \n",
              "730                                       3.0   \n",
              "731                                       0.0   \n",
              "732                                       0.0   \n",
              "733                                       0.0   \n",
              "\n",
              "     Tentativas_de_arremesso_de_quadra_de_3_pontos_por_jogo  ...  \\\n",
              "0                                                  1.2       ...   \n",
              "1                                                  0.0       ...   \n",
              "2                                                  0.1       ...   \n",
              "3                                                  1.4       ...   \n",
              "4                                                  1.0       ...   \n",
              "..                                                 ...       ...   \n",
              "729                                                1.0       ...   \n",
              "730                                                7.8       ...   \n",
              "731                                                0.2       ...   \n",
              "732                                                0.1       ...   \n",
              "733                                                0.0       ...   \n",
              "\n",
              "     Lances_livres_por_jogo  Tentativas_de_lance_livre_por_jogo  \\\n",
              "0                       0.9                                 1.6   \n",
              "1                       1.5                                 2.7   \n",
              "2                       4.4                                 5.8   \n",
              "3                       0.4                                 0.7   \n",
              "4                       1.7                                 2.0   \n",
              "..                      ...                                 ...   \n",
              "729                     0.0                                 0.5   \n",
              "730                     6.2                                 6.9   \n",
              "731                     0.8                                 1.3   \n",
              "732                     1.4                                 1.8   \n",
              "733                     2.2                                 3.1   \n",
              "\n",
              "     Rebotes_ofensivos_por_jogo  Rebotes_defensivos_por_jogo  \\\n",
              "0                           2.2                          4.7   \n",
              "1                           4.5                          5.1   \n",
              "2                           2.8                          7.4   \n",
              "3                           0.9                          1.5   \n",
              "4                           1.6                          4.2   \n",
              "..                          ...                          ...   \n",
              "729                         2.0                          2.5   \n",
              "730                         0.6                          3.2   \n",
              "731                         1.7                          4.2   \n",
              "732                         1.9                          2.8   \n",
              "733                         2.6                          5.4   \n",
              "\n",
              "     Assistências_por_jogo  Roubos_por_jogo  Tocos_por_jogo  \\\n",
              "0                      1.1              0.5             0.6   \n",
              "1                      3.2              0.9             0.7   \n",
              "2                      3.5              1.5             0.6   \n",
              "3                      0.5              0.1             0.3   \n",
              "4                      0.8              0.3             1.1   \n",
              "..                     ...              ...             ...   \n",
              "729                    1.0              1.0             0.5   \n",
              "730                    9.3              1.0             0.1   \n",
              "731                    1.0              0.4             0.4   \n",
              "732                    0.8              0.3             0.2   \n",
              "733                    1.4              0.4             1.0   \n",
              "\n",
              "     Bolas_desperdiçadas_por_jogo  Faltas_pessoais_por_jogo  Pontos_por_jogo  \n",
              "0                             1.0                       2.0              7.5  \n",
              "1                             1.6                       1.9              7.0  \n",
              "2                             2.9                       3.2             18.7  \n",
              "3                             0.3                       1.0              3.3  \n",
              "4                             1.0                       1.7             13.7  \n",
              "..                            ...                       ...              ...  \n",
              "729                           1.5                       1.5              7.0  \n",
              "730                           4.1                       1.6             27.8  \n",
              "731                           0.9                       1.7              6.1  \n",
              "732                           0.7                       2.1              5.2  \n",
              "733                           1.4                       2.5              9.6  \n",
              "\n",
              "[734 rows x 22 columns]"
            ]
          },
          "metadata": {},
          "execution_count": 23
        }
      ]
    },
    {
      "cell_type": "markdown",
      "source": [
        "# ANÁLISE 1"
      ],
      "metadata": {
        "id": "jwrg5I7jWmLf"
      }
    },
    {
      "cell_type": "markdown",
      "source": [
        "POSIÇÕES:\n",
        "\n",
        "C: Pivô,\n",
        "PF: Ala-pivô,\n",
        "SG: Ala-armador,\n",
        "PG: Armador,\n",
        "SF: Ala,"
      ],
      "metadata": {
        "id": "OAjzb25PqHI8"
      }
    },
    {
      "cell_type": "markdown",
      "source": [
        "Retirar time TOT, que é repetição de outros (consolidação)"
      ],
      "metadata": {
        "id": "duOdQsxVKexU"
      }
    },
    {
      "cell_type": "code",
      "source": [
        "#filtro\n",
        "sem_equipe_TOT = df.Equipe != 'TOT'"
      ],
      "metadata": {
        "id": "Ntg-YesaKexf"
      },
      "execution_count": null,
      "outputs": []
    },
    {
      "cell_type": "code",
      "source": [
        "sum_arremesso_3_pontos_por_posicao = df.loc[sem_equipe_TOT].groupby([\"Posição\"])['Arremesso_de_quadra_de_3_pontos_por_jogo'].sum()\n",
        "sum_arremesso_3_pontos_por_posicao_normalizado = sum_arremesso_3_pontos_por_posicao.mul(3)"
      ],
      "metadata": {
        "id": "RO90Das_bJhm"
      },
      "execution_count": null,
      "outputs": []
    },
    {
      "cell_type": "code",
      "source": [
        "sum_arremesso_2_pontos_por_posicao = df.loc[sem_equipe_TOT].groupby([\"Posição\"])['Arremesso_de_quadra_de_2_pontos_por_jogo'].sum()\n",
        "sum_arremesso_2_pontos_por_posicao_normalizado = sum_arremesso_2_pontos_por_posicao.mul(2)"
      ],
      "metadata": {
        "id": "Pmh8R6endN8i"
      },
      "execution_count": null,
      "outputs": []
    },
    {
      "cell_type": "code",
      "source": [
        "sum_pontos_por_posicao = sum_arremesso_2_pontos_por_posicao_normalizado.add(sum_arremesso_3_pontos_por_posicao_normalizado)"
      ],
      "metadata": {
        "id": "Yk6kwUG1dU-P"
      },
      "execution_count": null,
      "outputs": []
    },
    {
      "cell_type": "code",
      "source": [
        "sum_arremesso_3_pontos_por_posicao_normalizado[['C','SG','PF','PG','SF']].sort_values(ascending=False).plot.bar(title=\"Pontuação de arremessos de 3 pontos por posicao\",ylabel=\"Pontos\")"
      ],
      "metadata": {
        "colab": {
          "base_uri": "https://localhost:8080/"
        },
        "id": "VSj_9VoNgAZh",
        "outputId": "8555e532-5a03-453e-8c67-99eab1702ded"
      },
      "execution_count": null,
      "outputs": [
        {
          "output_type": "execute_result",
          "data": {
            "text/plain": [
              "<matplotlib.axes._subplots.AxesSubplot at 0x7f37ed5e7f50>"
            ]
          },
          "metadata": {},
          "execution_count": 28
        },
        {
          "output_type": "display_data",
          "data": {
            "image/png": "[encoded data removed]",
            "text/plain": [
              "<Figure size 432x288 with 1 Axes>"
            ]
          },
          "metadata": {
            "needs_background": "light"
          }
        }
      ]
    },
    {
      "cell_type": "code",
      "source": [
        "sum_arremesso_2_pontos_por_posicao_normalizado[['C','SG','PF','PG','SF']].sort_values(ascending=False).plot.bar(title=\"Pontuação de arremessos de 2 pontos por posicao\",ylabel=\"Pontos\")"
      ],
      "metadata": {
        "colab": {
          "base_uri": "https://localhost:8080/"
        },
        "id": "XLN1hHdVnnT5",
        "outputId": "fd6b4edf-59d2-49a8-9a0b-ded8466959fc"
      },
      "execution_count": null,
      "outputs": [
        {
          "output_type": "execute_result",
          "data": {
            "text/plain": [
              "<matplotlib.axes._subplots.AxesSubplot at 0x7f37ed522750>"
            ]
          },
          "metadata": {},
          "execution_count": 29
        },
        {
          "output_type": "display_data",
          "data": {
            "image/png": "[encoded data removed]",
            "text/plain": [
              "<Figure size 432x288 with 1 Axes>"
            ]
          },
          "metadata": {
            "needs_background": "light"
          }
        }
      ]
    },
    {
      "cell_type": "code",
      "source": [
        "sum_pontos_por_posicao[['C','SG','PF','PG','SF']].sort_values(ascending=False)"
      ],
      "metadata": {
        "colab": {
          "base_uri": "https://localhost:8080/"
        },
        "id": "jQa_VjWy9Wy2",
        "outputId": "15763db2-3565-4ff2-9af7-1f1017f7db61"
      },
      "execution_count": null,
      "outputs": [
        {
          "output_type": "execute_result",
          "data": {
            "text/plain": [
              "Posição\n",
              "SG    1121.9\n",
              "PG     921.6\n",
              "PF     833.3\n",
              "SF     830.9\n",
              "C      717.2\n",
              "dtype: float64"
            ]
          },
          "metadata": {},
          "execution_count": 30
        }
      ]
    },
    {
      "cell_type": "code",
      "source": [
        "sum_pontos_por_posicao[['C','SG','PF','PG','SF']].sort_values(ascending=False).plot.bar(title=\"Pontos de arremesso de quadra por posição\", ylabel=\"Pontos\")"
      ],
      "metadata": {
        "colab": {
          "base_uri": "https://localhost:8080/"
        },
        "id": "U0r-XTGTlEyJ",
        "outputId": "7f627226-ae68-4534-edda-d1de5b8f09e2"
      },
      "execution_count": null,
      "outputs": [
        {
          "output_type": "execute_result",
          "data": {
            "text/plain": [
              "<matplotlib.axes._subplots.AxesSubplot at 0x7f37ed0bba50>"
            ]
          },
          "metadata": {},
          "execution_count": 31
        },
        {
          "output_type": "display_data",
          "data": {
            "image/png": "[encoded data removed]",
            "text/plain": [
              "<Figure size 432x288 with 1 Axes>"
            ]
          },
          "metadata": {
            "needs_background": "light"
          }
        }
      ]
    },
    {
      "cell_type": "markdown",
      "source": [
        "Ala-armadores (SG) tem pontuações bem maiores que outras posições. Confirma-se, portanto, como os especialistas em arremessos de quadra."
      ],
      "metadata": {
        "id": "wYW2lWsxPKbO"
      }
    },
    {
      "cell_type": "markdown",
      "source": [
        "# ANÁLISE 2"
      ],
      "metadata": {
        "id": "kI7mqxrMBMZ2"
      }
    },
    {
      "cell_type": "markdown",
      "source": [
        "Retirar time TOT, que é repetição de outros (consolidação)"
      ],
      "metadata": {
        "id": "-j9-bq3145WH"
      }
    },
    {
      "cell_type": "code",
      "source": [
        "toco = df.loc[sem_equipe_TOT].groupby(['Nome_do_jogador'])[['Tocos_por_jogo','Faltas_pessoais_por_jogo']].mean()"
      ],
      "metadata": {
        "id": "gy0xjnTLBPnQ"
      },
      "execution_count": null,
      "outputs": []
    },
    {
      "cell_type": "code",
      "source": [
        "toco.plot.scatter(figsize=(12,8), y='Tocos_por_jogo', x='Faltas_pessoais_por_jogo')"
      ],
      "metadata": {
        "colab": {
          "base_uri": "https://localhost:8080/"
        },
        "id": "B_ZIzUrbaJw-",
        "outputId": "d3787191-d3fe-4ad0-966e-c59ca5f53a80"
      },
      "execution_count": null,
      "outputs": [
        {
          "output_type": "execute_result",
          "data": {
            "text/plain": [
              "<matplotlib.axes._subplots.AxesSubplot at 0x7f37ecfe0290>"
            ]
          },
          "metadata": {},
          "execution_count": 33
        },
        {
          "output_type": "display_data",
          "data": {
            "image/png": "[encoded data removed]",
            "text/plain": [
              "<Figure size 864x576 with 1 Axes>"
            ]
          },
          "metadata": {
            "needs_background": "light"
          }
        }
      ]
    },
    {
      "cell_type": "code",
      "source": [
        "roubos = df.loc[sem_equipe_TOT].groupby(['Nome_do_jogador'])[['Roubos_por_jogo','Faltas_pessoais_por_jogo']].mean()"
      ],
      "metadata": {
        "id": "7_tsxQEgfx22"
      },
      "execution_count": null,
      "outputs": []
    },
    {
      "cell_type": "code",
      "source": [
        "roubos.plot.scatter(figsize=(12,8), y='Roubos_por_jogo', x='Faltas_pessoais_por_jogo')"
      ],
      "metadata": {
        "colab": {
          "base_uri": "https://localhost:8080/"
        },
        "id": "zdmc8LUIkdrN",
        "outputId": "54ab36c9-abff-4338-af3e-2532ea3e2603"
      },
      "execution_count": null,
      "outputs": [
        {
          "output_type": "execute_result",
          "data": {
            "text/plain": [
              "<matplotlib.axes._subplots.AxesSubplot at 0x7f37ecfb91d0>"
            ]
          },
          "metadata": {},
          "execution_count": 35
        },
        {
          "output_type": "display_data",
          "data": {
            "image/png": "[encoded data removed]",
            "text/plain": [
              "<Figure size 864x576 with 1 Axes>"
            ]
          },
          "metadata": {
            "needs_background": "light"
          }
        }
      ]
    },
    {
      "cell_type": "markdown",
      "source": [
        "Há certa linearidade em que os paramentros de roubo e tocos altos tendem a levar a mais faltas"
      ],
      "metadata": {
        "id": "WyEC3wBvmC-H"
      }
    },
    {
      "cell_type": "markdown",
      "source": [
        "# ANÁLISE 3"
      ],
      "metadata": {
        "id": "X-Y75ypHk0OI"
      }
    },
    {
      "cell_type": "markdown",
      "source": [
        "POSIÇÕES:\n",
        "\n",
        "C: Pivô,\n",
        "PF: Ala-pivô,\n",
        "SG: Ala-armador,\n",
        "PG: Armador,\n",
        "SF: Ala,"
      ],
      "metadata": {
        "id": "GPXoLIXt4w0q"
      }
    },
    {
      "cell_type": "markdown",
      "source": [
        "Retirar time TOT, que é repetição de outros (consolidação)"
      ],
      "metadata": {
        "id": "pAGGHHPe48Jx"
      }
    },
    {
      "cell_type": "code",
      "source": [
        "df.loc[sem_equipe_TOT].groupby([\"Posição\"])['Minutos_jogados_por_jogo'].sum().sort_values(ascending=False).plot.bar(figsize=(12,8),xlabel='Posição',ylabel='Minutos_jogados_por_jogo')"
      ],
      "metadata": {
        "colab": {
          "base_uri": "https://localhost:8080/",
          "height": 518
        },
        "id": "VgjT8h0rk3pr",
        "outputId": "8f9153a7-b8bc-4d60-fb55-864a79ad8f8e"
      },
      "execution_count": null,
      "outputs": [
        {
          "output_type": "execute_result",
          "data": {
            "text/plain": [
              "<matplotlib.axes._subplots.AxesSubplot at 0x7f37ecedc690>"
            ]
          },
          "metadata": {},
          "execution_count": 36
        },
        {
          "output_type": "display_data",
          "data": {
            "image/png": "[encoded data removed]",
            "text/plain": [
              "<Figure size 864x576 with 1 Axes>"
            ]
          },
          "metadata": {
            "needs_background": "light"
          }
        }
      ]
    },
    {
      "cell_type": "markdown",
      "source": [
        "Ala-armadores ficam mais em campo que os outros por uma margem considerável de aproximadamente 500 minutos. Uma razão esperada é por eles costumeiramente também serem os maiores pontuadores de acordo com a analise 1."
      ],
      "metadata": {
        "id": "QHaHsCnP0GMz"
      }
    }
  ]
}